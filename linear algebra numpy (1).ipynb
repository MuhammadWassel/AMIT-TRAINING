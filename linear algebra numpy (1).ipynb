{
 "cells": [
  {
   "cell_type": "markdown",
   "metadata": {},
   "source": [
    "## Write a Numpy program to compute the multiplication of two given matrixes"
   ]
  },
  {
   "cell_type": "code",
   "execution_count": 1,
   "metadata": {},
   "outputs": [],
   "source": [
    "import numpy as np"
   ]
  },
  {
   "cell_type": "code",
   "execution_count": 18,
   "metadata": {},
   "outputs": [
    {
     "data": {
      "text/plain": [
       "array([[41, 16],\n",
       "       [77, 31]])"
      ]
     },
     "execution_count": 18,
     "metadata": {},
     "output_type": "execute_result"
    }
   ],
   "source": [
    " \n",
    "a = ([2, 1, 5],[8 ,1, 8]) # 1st matrix\n",
    "b = ([3, 2],[5, 7],[6, 1]) # 2nd matrix\n",
    " \n",
    "np.dot(a,b) #mutiply (2,3)matrix & (3,2)matrix\n",
    " \n"
   ]
  },
  {
   "cell_type": "markdown",
   "metadata": {},
   "source": [
    "## Write a NumPy program to compute the determinant of a given square array"
   ]
  },
  {
   "cell_type": "code",
   "execution_count": 23,
   "metadata": {},
   "outputs": [
    {
     "name": "stdout",
     "output_type": "stream",
     "text": [
      "Original array\n",
      "[[5 8]\n",
      " [6 3]]\n",
      "Determinant of the original array\n",
      "-33.0\n"
     ]
    }
   ],
   "source": [
    "from numpy import linalg as LA #import linalg method\n",
    "\n",
    "arr=np.array([[5,8], [6, 3]]) #input array\n",
    "\n",
    "print(\"Original array\")\n",
    "print(arr)\n",
    "              \n",
    "print(\"Determinant of the original array\")\n",
    "print(np.linalg.det(arr)) #built in fun to determinant"
   ]
  },
  {
   "cell_type": "markdown",
   "metadata": {},
   "source": [
    "## Write a NumPy program to compute the cross product of two given vectors"
   ]
  },
  {
   "cell_type": "code",
   "execution_count": 29,
   "metadata": {},
   "outputs": [
    {
     "name": "stdout",
     "output_type": "stream",
     "text": [
      "original matrix:\n",
      "[[2, 6], [6, 8]]\n",
      "[[1, 8], [2, 4]]\n",
      "cross product of the two vectors(a, b): \n",
      "[10  8]\n",
      "cross product of the two vectors(b, a): \n",
      "[-10  -8]\n"
     ]
    }
   ],
   "source": [
    "a= [[2, 6], [6, 8]]\n",
    "b= [[1, 8], [2, 4]]\n",
    "\n",
    "print(\"original matrix:\")\n",
    "print(a)\n",
    "print(b)\n",
    "\n",
    "res1 = np.cross(a, b) #built-in fun. of cross multiplication\n",
    "res2 = np.cross(b, a)\n",
    "\n",
    "print(\"cross product of the two vectors(a, b): \")\n",
    "print(res1)\n",
    "\n",
    "print(\"cross product of the two vectors(b, a): \")\n",
    "print(res2)"
   ]
  },
  {
   "cell_type": "markdown",
   "metadata": {},
   "source": [
    "## Write a NumPy program to compute the condition number of a given matrix"
   ]
  },
  {
   "cell_type": "code",
   "execution_count": 27,
   "metadata": {},
   "outputs": [
    {
     "name": "stdout",
     "output_type": "stream",
     "text": [
      "Original matrix: \n",
      "[[ 1  2 -5]\n",
      " [ 5  1  0]\n",
      " [ 1  7  2]]\n",
      "The condition number of the orig. matrix: \n",
      "6.854101966249688\n"
     ]
    }
   ],
   "source": [
    "m = np.array([[1, 2, -5],\n",
    "              [5, 1, 0],\n",
    "              [1, 7, 2]])\n",
    "\n",
    "print(\"Original matrix: \")\n",
    "print(m)\n",
    "\n",
    "print(\"The condition number of the orig. matrix: \")\n",
    "print(LA.cond(a))"
   ]
  },
  {
   "cell_type": "markdown",
   "metadata": {},
   "source": [
    "## Write a NumPy program to compute the inverse of a given matrix"
   ]
  },
  {
   "cell_type": "code",
   "execution_count": 28,
   "metadata": {},
   "outputs": [
    {
     "name": "stdout",
     "output_type": "stream",
     "text": [
      "Original matrix:\n",
      "[[1 1]\n",
      " [6 8]]\n",
      "Inverse of the matrix:\n",
      "[[ 4.  -0.5]\n",
      " [-3.   0.5]]\n"
     ]
    }
   ],
   "source": [
    "n = np.array([[1,1],[6,8]])\n",
    "\n",
    "print(\"Original matrix:\")\n",
    "print(n)\n",
    "\n",
    "result =  np.linalg.inv(n)\n",
    "\n",
    "print(\"Inverse of the matrix:\")\n",
    "print(result)\n"
   ]
  }
 ],
 "metadata": {
  "kernelspec": {
   "display_name": "Python 3 (ipykernel)",
   "language": "python",
   "name": "python3"
  },
  "language_info": {
   "codemirror_mode": {
    "name": "ipython",
    "version": 3
   },
   "file_extension": ".py",
   "mimetype": "text/x-python",
   "name": "python",
   "nbconvert_exporter": "python",
   "pygments_lexer": "ipython3",
   "version": "3.9.12"
  }
 },
 "nbformat": 4,
 "nbformat_minor": 2
}
