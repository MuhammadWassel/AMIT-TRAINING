{
 "cells": [
  {
   "cell_type": "markdown",
   "metadata": {},
   "source": [
    "#  مسئلة تم أضافتها للأسيمنت لعدم قدرتي على حلها في السيشن(يوم الخميس) "
   ]
  },
  {
   "cell_type": "markdown",
   "metadata": {},
   "source": [
    "### ادخل بيانات يوزر و اخزنها في فايل"
   ]
  },
  {
   "cell_type": "code",
   "execution_count": 5,
   "metadata": {},
   "outputs": [
    {
     "name": "stdout",
     "output_type": "stream",
     "text": [
      "type your first name: Muhammad\n",
      "type your last name: Wassel\n",
      "type your gender: Male\n",
      "insert your id number: 164\n"
     ]
    }
   ],
   "source": [
    "first= input('type your first name: ')\n",
    "last= input(\"type your last name: \")\n",
    "gen= input (\"type your gender: \")\n",
    "id_n= int(input (\"insert your id number: \")) \n",
    "check= id_n in range(100,1000)  #  check that the input has only 3 numbers\n",
    "if check==0 :\n",
    "    print(\"wrong id range\")     # if id more or less than 3 numbers it won't be stored\n",
    "else:\n",
    "    id_r=id_n\n",
    "    "
   ]
  },
  {
   "cell_type": "code",
   "execution_count": 9,
   "metadata": {},
   "outputs": [],
   "source": [
    "f= open(\"Python.txt\",\"a\")\n",
    "f.write(first+\"\\n\")                 #insert all inputs\n",
    "f.write(last+\"\\n\")\n",
    "f.write(gen+\"\\n\")\n",
    "f.write(str(id_r))\n",
    "f.close()\n"
   ]
  },
  {
   "cell_type": "code",
   "execution_count": 10,
   "metadata": {},
   "outputs": [
    {
     "name": "stdout",
     "output_type": "stream",
     "text": [
      "Muhammad\n",
      "Wassel\n",
      "Male\n",
      "164\n"
     ]
    }
   ],
   "source": [
    "f= open(\"Python.txt\",\"r\")\n",
    "print(f.read())             #Fun. Call\n",
    "f.close()"
   ]
  },
  {
   "cell_type": "markdown",
   "metadata": {},
   "source": [
    "# Assignment 3"
   ]
  },
  {
   "cell_type": "markdown",
   "metadata": {},
   "source": [
    "### Write a function to count the number 4 in a given list."
   ]
  },
  {
   "cell_type": "code",
   "execution_count": 15,
   "metadata": {},
   "outputs": [],
   "source": [
    "def count(list1):\n",
    "    print(\"number of repeatitions of 4 is {} times \".format(list1.count(4)))   #use .count to get no. of repeatitions\n",
    "x=[1,2,3,5,4,10,4,4]"
   ]
  },
  {
   "cell_type": "code",
   "execution_count": 16,
   "metadata": {},
   "outputs": [
    {
     "name": "stdout",
     "output_type": "stream",
     "text": [
      "number of repeatitions of 4 is 3 times \n"
     ]
    }
   ],
   "source": [
    "count(x)"
   ]
  },
  {
   "cell_type": "markdown",
   "metadata": {},
   "source": [
    "### write a  function to check whether a number is divisible by another number."
   ]
  },
  {
   "cell_type": "code",
   "execution_count": 17,
   "metadata": {},
   "outputs": [
    {
     "name": "stdout",
     "output_type": "stream",
     "text": [
      "Enter the 1st number: 8\n",
      "Enter the 2nd number: 2\n",
      "num1 is divisible by num2\n"
     ]
    }
   ],
   "source": [
    "def divisibility (num1,num2):\n",
    "    if num1%num2==0:               \n",
    "        print(\"num1 is divisible by num2\")\n",
    "    else:\n",
    "        print(\"num1 isn't divisible by num2\")\n",
    "        \n",
    "num1=int(input(\"Enter the 1st number: \"))       #Get 2 numbers from user\n",
    "num2=int(input(\"Enter the 2nd number: \"))\n",
    "divisibility (num1,num2)"
   ]
  },
  {
   "cell_type": "markdown",
   "metadata": {},
   "source": [
    "### write a function to find the maximum and minimum numbers from a sequence of numbers."
   ]
  },
  {
   "cell_type": "code",
   "execution_count": 45,
   "metadata": {},
   "outputs": [
    {
     "name": "stdout",
     "output_type": "stream",
     "text": [
      "The maximum value at the list is  22\n",
      "The minimum value at the list is  0\n"
     ]
    }
   ],
   "source": [
    "def detect(list1):\n",
    "    Max=list1[0]                #initial value for maximum number\n",
    "    Min=list1[0]                #initial value for minimum number\n",
    "    \n",
    "    for n in range(len(list1)):\n",
    "        if list1[n]>Max:                    #compare with the value of previous index\n",
    "            Max=(list1[n])                  #if greater : store it in Max\n",
    "    print(\"The maximum value at the list is \",Max)\n",
    "    \n",
    "    for n in range(len(list1)):\n",
    "        if list1[n]<Min:                    #compare with the value of previous index\n",
    "            Min=(list1[n])                  #if lesser : store it in Max\n",
    "    print(\"The minimum value at the list is \",Min)\n",
    "    \n",
    "list1=[1,2,10,7,18,3,22,0,4]\n",
    "\n",
    "detect(list1)\n",
    "    "
   ]
  },
  {
   "cell_type": "markdown",
   "metadata": {},
   "source": [
    "### Write a Python function that takes two lists and returns True if they have at least one common member."
   ]
  },
  {
   "cell_type": "code",
   "execution_count": 24,
   "metadata": {},
   "outputs": [
    {
     "name": "stdout",
     "output_type": "stream",
     "text": [
      "Enter the first list: [1,5,4]\n",
      "Enter the second list: [2,4,7]\n",
      "True\n"
     ]
    }
   ],
   "source": [
    "detector=0\n",
    "def compare(list1,list2):\n",
    "    n1=0\n",
    "    n2=0\n",
    "    \n",
    "    \n",
    "    for n1 in range(len(list1)):            #to loop at all indeces of list1\n",
    "        for n2 in range(len(list2)):            #to loop at all indeces of list2\n",
    "            if list1[n1]!=list2[n2]:\n",
    "                n2+=1                           #if not equal : compare with next index of list2\n",
    "            else:\n",
    "                global detector                 #variable that detects if at least one common member when it has true value\n",
    "                detector+=1\n",
    "                \n",
    "        n2=0\n",
    "        n1+=1\n",
    "    \n",
    "           \n",
    "                \n",
    "list1=input(\"Enter the first list: \")\n",
    "list2=input(\"Enter the second list: \")\n",
    "\n",
    "compare(list1,list2) \n",
    "print(bool(detector)) "
   ]
  },
  {
   "cell_type": "markdown",
   "metadata": {},
   "source": [
    "### Write a Python function to calculate the factorial of a number (a non-negative integer). The function accepts the number from the user"
   ]
  },
  {
   "cell_type": "code",
   "execution_count": 40,
   "metadata": {},
   "outputs": [
    {
     "name": "stdout",
     "output_type": "stream",
     "text": [
      "Enter the number: 6\n",
      "The factorial of 6 is 720\n"
     ]
    }
   ],
   "source": [
    "def fact(num1):\n",
    "    if num1<0:                  #Check non-negative\n",
    "        print (\"Negative numbers are not valid\")\n",
    "    elif num1==0:\n",
    "        print (\"factorial of 0 is 0\")\n",
    "    else :\n",
    "        n=num1\n",
    "        factorial=1             #initial value of multiplication\n",
    "        while n>0 :\n",
    "            factorial=factorial*n         #Accumulating of factorial\n",
    "            n-=1\n",
    "        print(\"The factorial of {} is {}\".format(num1,factorial))\n",
    "        \n",
    "number=int(input(\"Enter the number: \"))\n",
    "fact(number)"
   ]
  },
  {
   "cell_type": "markdown",
   "metadata": {},
   "source": [
    "### Write a Python function to check whether a number is in a given range.\n",
    "\n",
    "### The range is from 3 to 11\n"
   ]
  },
  {
   "cell_type": "code",
   "execution_count": 53,
   "metadata": {},
   "outputs": [
    {
     "name": "stdout",
     "output_type": "stream",
     "text": [
      "Enter the num: 12\n",
      "outside the range\n"
     ]
    }
   ],
   "source": [
    "def rang(num):\n",
    "    if num>=3 and num<=11:               #check if in range\n",
    "        print(\"inside the range\")\n",
    "    else:\n",
    "        print(\"outside the range\")\n",
    "        \n",
    "x=int(input(\"Enter the num: \"))\n",
    "rang(x)\n"
   ]
  },
  {
   "cell_type": "markdown",
   "metadata": {},
   "source": [
    "### Write a  program to create the multiplication table (from 1 to 10) of a number."
   ]
  },
  {
   "cell_type": "code",
   "execution_count": 9,
   "metadata": {},
   "outputs": [
    {
     "name": "stdout",
     "output_type": "stream",
     "text": [
      "Enter the number: 5\n",
      "5 * 1 = 5\n",
      "5 * 2 = 10\n",
      "5 * 3 = 15\n",
      "5 * 4 = 20\n",
      "5 * 5 = 25\n",
      "5 * 6 = 30\n",
      "5 * 7 = 35\n",
      "5 * 8 = 40\n",
      "5 * 9 = 45\n",
      "5 * 10 = 50\n"
     ]
    }
   ],
   "source": [
    "def mult_table(num):\n",
    "    \n",
    "    for n in range(1,11):             #loop at numbers from 1 to 10 and muliply each num with the input\n",
    "        res=n*num                    #overwrite the multiplication\n",
    "        print(num,\"*\",n,\"=\",res)\n",
    "        \n",
    "num= int(input(\"Enter the number: \"))\n",
    "mult_table(num)"
   ]
  },
  {
   "cell_type": "markdown",
   "metadata": {},
   "source": [
    "#### LESSER OF TWO EVENS: Write a function that returns the lesser of two given numbers *if* both numbers are even, but returns the greater if one or both numbers are odd\n",
    "    lesser_of_two_evens(2,4) --> 2\n",
    "    lesser_of_two_evens(2,5) --> 5"
   ]
  },
  {
   "cell_type": "code",
   "execution_count": 23,
   "metadata": {},
   "outputs": [
    {
     "name": "stdout",
     "output_type": "stream",
     "text": [
      "Enter first number: 2\n",
      "Enter second number: 7\n",
      "The greater is:  7\n"
     ]
    }
   ],
   "source": [
    "def checker(n1,n2):\n",
    "    if n1%2==0 and n2%2==0:               #Check if both even\n",
    "        if n1>n2:                           \n",
    "            print(\"The lesser is: \",n2)\n",
    "        else:\n",
    "            print(\"The lesser is: \",n1)\n",
    "    else:                                 #one at least is odd\n",
    "        if n1>n2:\n",
    "            print(\"The greater is: \",n1)\n",
    "        else:\n",
    "            print(\"The greater is: \",n2)\n",
    "        \n",
    "x=int(input(\"Enter first number: \"))\n",
    "y=int(input(\"Enter second number: \"))\n",
    "checker(x,y)\n"
   ]
  }
 ],
 "metadata": {
  "kernelspec": {
   "display_name": "Python 3 (ipykernel)",
   "language": "python",
   "name": "python3"
  },
  "language_info": {
   "codemirror_mode": {
    "name": "ipython",
    "version": 3
   },
   "file_extension": ".py",
   "mimetype": "text/x-python",
   "name": "python",
   "nbconvert_exporter": "python",
   "pygments_lexer": "ipython3",
   "version": "3.9.12"
  }
 },
 "nbformat": 4,
 "nbformat_minor": 2
}
